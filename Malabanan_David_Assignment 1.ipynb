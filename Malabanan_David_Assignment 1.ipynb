{
 "cells": [
  {
   "cell_type": "markdown",
   "metadata": {},
   "source": [
    "# ITMGT 25.03 EE\n",
    "### Assignment 1\n",
    "\n",
    "These exercises are designed to strengthen your grasp on basic programming concepts. Read what is required of you carefully.\n",
    "\n",
    "This assignment is only over 10 points, but there are 15 points available to earn from answering the questions. It will be credited to Class Participation, which will be over 200 for the entire semester.\n",
    "\n",
    "Rename the file to:\n",
    "\n",
    "Lastname_Assignment_1.ipynb\n",
    "\n",
    "Send to my email account: joben.ilagan@gmail.com. \n",
    "Attach the file or create a Dropbox link. \n",
    "The deadline is Tuesday, 18 June 2019, 12:00 nn.\n",
    "\n",
    "You may earn another 2 bonus points for figuring out GitHub and linking me to your repository in your email. (This brings the absolute maximum possible grade for this assignment to 17/10.)"
   ]
  },
  {
   "cell_type": "markdown",
   "metadata": {},
   "source": [
    "# 1\n",
    "### 1 point\n",
    "\n",
    "Write a function that takes the circumference of a circle as a parameter and **returns** the area of that circle."
   ]
  },
  {
   "cell_type": "code",
   "execution_count": null,
   "metadata": {},
   "outputs": [],
   "source": [
    "pi=3.1415\n",
    "def circumference(x):\n",
    "    return ((x/(2*pi))**2)*pi\n",
    "circumference(50)"
   ]
  },
  {
   "cell_type": "markdown",
   "metadata": {},
   "source": [
    "# 2\n",
    "### 2 points\n",
    "\n",
    "Write a function that takes a 5-character string as a parameter and **returns** the string in reverse order.\n",
    "\n",
    "e.g. reverseString(\"Hello\") -> \"olleH\""
   ]
  },
  {
   "cell_type": "code",
   "execution_count": 8,
   "metadata": {},
   "outputs": [
    {
     "name": "stdout",
     "output_type": "stream",
     "text": [
      "divaD\n"
     ]
    }
   ],
   "source": [
    "def string(x):\n",
    "    if len(x)==5:\n",
    "        print(x[4] + x[3] + x[2] + x[1] +x[0] )\n",
    "    else:\n",
    "        print(\"That isn't a 5-character string\")\n",
    "string(\"David\")\n"
   ]
  },
  {
   "cell_type": "markdown",
   "metadata": {},
   "source": [
    "# 3\n",
    "### 2 points\n",
    "\n",
    "Write a function that takes a positive integer as input and **returns** the sum of all positive integers smaller than and including the number itself.\n",
    "\n",
    "e.g. backAddition(5) -> 1 + 2 + 3 + 4 + 5 -> 15"
   ]
  },
  {
   "cell_type": "code",
   "execution_count": null,
   "metadata": {},
   "outputs": [],
   "source": [
    "\n",
    "def Addition(x):\n",
    "    total= 0\n",
    "    while x>0:\n",
    "        total += x\n",
    "        x -= 1\n",
    "    return(total)\n",
    "\n",
    "Addition(5)"
   ]
  },
  {
   "cell_type": "markdown",
   "metadata": {},
   "source": [
    "# 4\n",
    "### 3 points\n",
    "\n",
    "Write a function that does the following:\n",
    "1. The function iterates through each number from 1 to 100. Print each number.\n",
    "2. If the number is divisible by 3, instead of the number, print \"Fizz\"\n",
    "3. If the number is divisible by 5, instead of the number, print \"Buzz\"\n",
    "4. If the number is divisible by both 3 and 5, instead of the number, print \"FizzBuzz\"\n",
    "\n",
    "e.g.\n",
    "\n",
    "1\n",
    "\n",
    "2\n",
    "\n",
    "Fizz\n",
    "\n",
    "4\n",
    "\n",
    "Buzz\n",
    "\n",
    "Fizz\n",
    "\n",
    "...\n",
    "\n",
    "14\n",
    "\n",
    "FizzBuzz\n",
    "\n",
    "16\n",
    "\n",
    "17\n",
    "\n",
    "..."
   ]
  },
  {
   "cell_type": "code",
   "execution_count": 7,
   "metadata": {},
   "outputs": [
    {
     "name": "stdout",
     "output_type": "stream",
     "text": [
      "1\n",
      "2\n",
      "Fizz\n",
      "4\n",
      "Buzz\n",
      "Fizz\n",
      "7\n",
      "8\n",
      "Fizz\n",
      "Buzz\n",
      "11\n",
      "Fizz\n",
      "13\n",
      "14\n",
      "FizzBuzz\n",
      "16\n",
      "17\n",
      "Fizz\n",
      "19\n",
      "Buzz\n",
      "Fizz\n",
      "22\n",
      "23\n",
      "Fizz\n",
      "Buzz\n",
      "26\n",
      "Fizz\n",
      "28\n",
      "29\n",
      "FizzBuzz\n",
      "31\n",
      "32\n",
      "Fizz\n",
      "34\n",
      "Buzz\n",
      "Fizz\n",
      "37\n",
      "38\n",
      "Fizz\n",
      "Buzz\n",
      "41\n",
      "Fizz\n",
      "43\n",
      "44\n",
      "FizzBuzz\n",
      "46\n",
      "47\n",
      "Fizz\n",
      "49\n",
      "Buzz\n",
      "Fizz\n",
      "52\n",
      "53\n",
      "Fizz\n",
      "Buzz\n",
      "56\n",
      "Fizz\n",
      "58\n",
      "59\n",
      "FizzBuzz\n",
      "61\n",
      "62\n",
      "Fizz\n",
      "64\n",
      "Buzz\n",
      "Fizz\n",
      "67\n",
      "68\n",
      "Fizz\n",
      "Buzz\n",
      "71\n",
      "Fizz\n",
      "73\n",
      "74\n",
      "FizzBuzz\n",
      "76\n",
      "77\n",
      "Fizz\n",
      "79\n",
      "Buzz\n",
      "Fizz\n",
      "82\n",
      "83\n",
      "Fizz\n",
      "Buzz\n",
      "86\n",
      "Fizz\n",
      "88\n",
      "89\n",
      "FizzBuzz\n",
      "91\n",
      "92\n",
      "Fizz\n",
      "94\n",
      "Buzz\n",
      "Fizz\n",
      "97\n",
      "98\n",
      "Fizz\n",
      "Buzz\n"
     ]
    }
   ],
   "source": [
    "def printer(x):\n",
    "        for counter in range(1,101):\n",
    "            if (counter%3==0 and counter%5==0):\n",
    "                print(\"FizzBuzz\")\n",
    "            else:  \n",
    "                if(counter%5==0):\n",
    "                    print(\"Buzz\")\n",
    "                else:\n",
    "                    if(counter%3==0):\n",
    "                        print(\"Fizz\")\n",
    "                    else:\n",
    "                        print(counter)\n",
    "printer(3)"
   ]
  },
  {
   "cell_type": "markdown",
   "metadata": {},
   "source": [
    "# 5\n",
    "### 2 points\n",
    "\n",
    "Each new term in the Fibonacci sequence is generated by adding the previous two terms. By starting with 1 and 2, the first 10 terms will be:\n",
    "\n",
    "1, 2, 3, 5, 8, 13, 21, 34, 55, 89, ...\n",
    "\n",
    "By considering the terms in the Fibonacci sequence whose values do not exceed four million, using programming, find the sum of the even-valued terms."
   ]
  },
  {
   "cell_type": "code",
   "execution_count": 3,
   "metadata": {},
   "outputs": [
    {
     "name": "stdout",
     "output_type": "stream",
     "text": [
      "4613732\n"
     ]
    }
   ],
   "source": [
    "# 3524578 is the largest fibonacci sequence value usable according to https://planetmath.org/ListOfFibonacciNumbers\n",
    "\n",
    "a=1\n",
    "b=2\n",
    "total=0\n",
    "while b<4000000:\n",
    "    if b%2==0:\n",
    "        total += b\n",
    "        c= a+b\n",
    "        a= b\n",
    "        b= c\n",
    "    else:\n",
    "        c= a+b\n",
    "        a= b\n",
    "        b= c\n",
    "print(total)"
   ]
  },
  {
   "cell_type": "markdown",
   "metadata": {},
   "source": [
    "# 6\n",
    "### 5 points (all or nothing)\n",
    "\n",
    "The sum of the squares of the first ten natural numbers is,\n",
    "12 + 22 + ... + 102 = 385\n",
    "\n",
    "The square of the sum of the first ten natural numbers is,\n",
    "(1 + 2 + ... + 10)2 = 552 = 3025\n",
    "\n",
    "Hence the difference between the sum of the squares of the first ten natural numbers and the square of the sum is 3025 − 385 = 2640.\n",
    "\n",
    "Find the difference between the sum of the squares of the first one hundred natural numbers and the square of the sum.\n",
    "\n",
    "Show code that generates the answer."
   ]
  },
  {
   "cell_type": "code",
   "execution_count": 6,
   "metadata": {},
   "outputs": [
    {
     "data": {
      "text/plain": [
       "25164150"
      ]
     },
     "execution_count": 6,
     "metadata": {},
     "output_type": "execute_result"
    }
   ],
   "source": [
    "\n",
    "def SumofSquares(x):\n",
    "    total= 0\n",
    "    while x>0:\n",
    "        total += x**2\n",
    "        x -= 1\n",
    "    return(total)\n",
    "SumofSquares(100)\n",
    "def Add(x):\n",
    "    total= 0\n",
    "    while x>0:\n",
    "        total += x\n",
    "        x -= 1\n",
    "    return(total)\n",
    "(Add(100)**2)-SumofSquares(100)"
   ]
  },
  {
   "cell_type": "code",
   "execution_count": null,
   "metadata": {},
   "outputs": [],
   "source": []
  },
  {
   "cell_type": "code",
   "execution_count": 21,
   "metadata": {},
   "outputs": [
    {
     "ename": "SyntaxError",
     "evalue": "invalid syntax (<ipython-input-21-0a4fabd20346>, line 3)",
     "output_type": "error",
     "traceback": [
      "\u001b[1;36m  File \u001b[1;32m\"<ipython-input-21-0a4fabd20346>\"\u001b[1;36m, line \u001b[1;32m3\u001b[0m\n\u001b[1;33m    n1 = 0\u001b[0m\n\u001b[1;37m       ^\u001b[0m\n\u001b[1;31mSyntaxError\u001b[0m\u001b[1;31m:\u001b[0m invalid syntax\n"
     ]
    }
   ],
   "source": []
  },
  {
   "cell_type": "code",
   "execution_count": null,
   "metadata": {},
   "outputs": [],
   "source": []
  }
 ],
 "metadata": {
  "kernelspec": {
   "display_name": "Python 3",
   "language": "python",
   "name": "python3"
  },
  "language_info": {
   "codemirror_mode": {
    "name": "ipython",
    "version": 3
   },
   "file_extension": ".py",
   "mimetype": "text/x-python",
   "name": "python",
   "nbconvert_exporter": "python",
   "pygments_lexer": "ipython3",
   "version": "3.7.3"
  }
 },
 "nbformat": 4,
 "nbformat_minor": 2
}
